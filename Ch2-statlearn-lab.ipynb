{
 "cells": [
  {
   "cell_type": "markdown",
   "id": "classical-prophet",
   "metadata": {},
   "source": [
    "# Dummy\n",
    "\n",
    "## Lab: Introduction to the python data science stack\n",
    "\n",
    "In this lab, we will introduce some simple `python` commands and\n",
    "introduce the `numpy` library.  The best way to learn a new language\n",
    "is to try out the commands. As a general purpose\n",
    "programming language, `python` was not created\n",
    "specifically with data in mind so much of the data-specific\n",
    "functionality comes from other packages, notably `numpy`\n",
    "and `pandas`. To get\n",
    "started, download and install a `python3` version from\n",
    "[anaconda.com](http://anaconda.com).  For more resources about the\n",
    "language in general, readers\n",
    "may want to consult the [docs.python.org/tutorial](https://docs.python.org/3/tutorial/)\n",
    "as well as the numpy tutorial\n",
    "[docs.scipy.org/doc/numpy/user/quickstart.html](https://docs.scipy.org/doc/numpy/user/quickstart.html).\n",
    "\n",
    "There are several interfaces to `python`. We will use\n",
    "one of the most most popular<br />\n",
    "– [Jupyter](http://jupyter.org) – which runs python\n",
    "code through a file called a notebook.  For console work,\n",
    "the [ipython](http://ipython.org) console is quite an improvement\n",
    "over the standard console and can be installed with\n",
    "`conda`. Displays of code below appear as if run in the\n",
    "`Jupyter` rather than the default `python` console.\n",
    "\n",
    "### Basic Commands\n",
    "\n",
    "Like most languages, `python` uses *functions* \n",
    "to perform operations.   To run a\n",
    "function called `funcname`, we type\n",
    "`funcname(input1,input2)`, where the inputs (or *arguments*)\n",
    "`input1` and `input2` tell\n",
    "`python` how to run the function.  A function can have any number of\n",
    "inputs. For example, to display a text representation\n",
    "of something, we use the function\n",
    "`print()` which displays all of its arguments\n",
    "(represented as strings to the console). A string is a\n",
    "non-numerical datatype: when a computer reads a file it is\n",
    "reading in strings of characters. In `python` every object\n",
    "has at least one representation as a string.\n",
    "\n"
   ]
  },
  {
   "cell_type": "code",
   "execution_count": null,
   "id": "bigger-george",
   "metadata": {},
   "outputs": [],
   "source": [
    "%%R\n",
    "print('fit a model with', 11, 'variables')"
   ]
  },
  {
   "cell_type": "markdown",
   "id": "potential-stand",
   "metadata": {},
   "source": [
    "In statistical learning, we will often work with vectors and matrices\n",
    "of numbers. The builtin `python` functions do not support vectors and matrices,\n",
    "these are introduced in `numpy`. However,\n",
    "`python` does have sequences built in.\n",
    "The following command instructs `python` to join together\n",
    "the numbers 3, 4, and 5, and to save them as a\n",
    "list named `x`. When we\n",
    "type `x`, it gives us back the list.\n",
    "\n"
   ]
  },
  {
   "cell_type": "code",
   "execution_count": null,
   "id": "stupid-wound",
   "metadata": {},
   "outputs": [],
   "source": [
    "%%R\n",
    "x = [3, 4, 5]\n",
    "x"
   ]
  },
  {
   "cell_type": "markdown",
   "id": "fixed-dating",
   "metadata": {},
   "source": [
    "Note that no function is called in creating `x` above. The\n",
    "`[]` brackets denote the construction of a list in `python`.\n",
    "Typing `funcname?` will cause |ipython| to display some\n",
    "documentation for `funcname` when it exists.\n",
    "\n",
    "We will often want to add two sets of numbers together. It is reasonable to try the following code,\n",
    "though it will not produce the desired result.\n",
    "\n"
   ]
  },
  {
   "cell_type": "code",
   "execution_count": null,
   "id": "intermediate-buffer",
   "metadata": {},
   "outputs": [],
   "source": [
    "%%R\n",
    "y = [4, 9, 7]\n",
    "x + y"
   ]
  },
  {
   "cell_type": "markdown",
   "id": "interstate-chorus",
   "metadata": {},
   "source": [
    "The result may appear slightly counterintuitive – why did `python` not add the entries of the list\n",
    "element-by-element? This brings us to the `numpy` library. In `python`, lists are basic `types`\n",
    "that can hold *arbitrary* objects and addition of lists is defined as *concatenation*. Different\n",
    "types can define addition differently. For example, addition of strings is concatenation,\n",
    "while addition of integers results (sensibly) in an integer.\n",
    "\n"
   ]
  },
  {
   "cell_type": "code",
   "execution_count": null,
   "id": "narrative-telling",
   "metadata": {
    "lines_to_next_cell": 0
   },
   "outputs": [],
   "source": [
    "%%R\n",
    "\"hello\" + \" \" + \"world\""
   ]
  },
  {
   "cell_type": "markdown",
   "id": "minor-harrison",
   "metadata": {},
   "source": [
    "\n"
   ]
  },
  {
   "cell_type": "code",
   "execution_count": null,
   "id": "median-validity",
   "metadata": {},
   "outputs": [],
   "source": [
    "%%R\n",
    "3 + 5"
   ]
  },
  {
   "cell_type": "markdown",
   "id": "intensive-roommate",
   "metadata": {},
   "source": [
    "To add vectors of numbers, we must first tell `python` that the\n",
    "objects are indeed vectors.\n",
    "This is done by creating an `array` using\n",
    "`numpy`\n",
    "\n"
   ]
  },
  {
   "cell_type": "code",
   "execution_count": null,
   "id": "going-overhead",
   "metadata": {},
   "outputs": [],
   "source": [
    "%%R\n",
    "x = np.array([3, 4, 5])"
   ]
  },
  {
   "cell_type": "markdown",
   "id": "dramatic-notification",
   "metadata": {},
   "source": [
    "Note that `python` is unable to find `np`. This is because\n",
    "we have tried to access the function `array` in the library\n",
    "`np` (common shorthand for `numpy`). However,\n",
    "we have not imported the\n",
    "the `numpy` library. In order to\n",
    "access code in a package, it must be imported.\n",
    "\n"
   ]
  },
  {
   "cell_type": "code",
   "execution_count": null,
   "id": "nutritional-temple",
   "metadata": {},
   "outputs": [],
   "source": [
    "%%R\n",
    "import numpy as np # standard name for the numpy library\n",
    "x = np.array([3, 4, 5])\n",
    "y = np.array([4, 9, 7])\n",
    "x + y"
   ]
  },
  {
   "cell_type": "markdown",
   "id": "clear-suite",
   "metadata": {},
   "source": [
    "The arrays `x` and `y` are one dimensional.\n",
    "Arrays can be multidimensional, including more than 2 dimensions.\n",
    "Matrices are usually represented as 2-dimensional arrays in `numpy`\n",
    "(though there are *matrices* in `numpy`, most operations can be done\n",
    "quite naturally on *arrays* instead).\n",
    "In the labs of this book, we will use the\n",
    "convention that a *matrix* is a two-dimensional `numpy` array while a\n",
    "*vector* is a one-dimensional `numpy` array. Using arrays instead of matrices mean that there\n",
    "is no distinction between vectors and matrices\n",
    "besides the number of dimensions: there are is no need to distinguish\n",
    "between row and column vectors.\n",
    "\n",
    "Let’s learn a little more about the `np.array()` function:\n",
    "\n"
   ]
  },
  {
   "cell_type": "code",
   "execution_count": null,
   "id": "documentary-cooler",
   "metadata": {},
   "outputs": [],
   "source": [
    "%%R\n",
    "np.array?#DONOTRUN"
   ]
  },
  {
   "cell_type": "markdown",
   "id": "cardiovascular-typing",
   "metadata": {},
   "source": [
    "The help file reveals that the `np.array()` function takes a number of inputs, but\n",
    "for now we focus on the first two: the\n",
    "data and the data type or `dtype`.\n",
    "\n"
   ]
  },
  {
   "cell_type": "code",
   "execution_count": null,
   "id": "skilled-registrar",
   "metadata": {
    "lines_to_next_cell": 0
   },
   "outputs": [],
   "source": [
    "%%R\n",
    "x = np.array([[1, 2], [3, 4]])\n",
    "x, x.dtype, x.ndim #CHOPLINE"
   ]
  },
  {
   "cell_type": "markdown",
   "id": "ready-journey",
   "metadata": {},
   "source": [
    "\n"
   ]
  },
  {
   "cell_type": "code",
   "execution_count": null,
   "id": "molecular-egypt",
   "metadata": {
    "lines_to_next_cell": 0
   },
   "outputs": [],
   "source": [
    "%%R\n",
    "np.array([[1, 2], [3.0, 4]]).dtype"
   ]
  },
  {
   "cell_type": "markdown",
   "id": "impressive-programming",
   "metadata": {},
   "source": [
    "\n"
   ]
  },
  {
   "cell_type": "code",
   "execution_count": null,
   "id": "arbitrary-secondary",
   "metadata": {},
   "outputs": [],
   "source": [
    "%%R\n",
    "np.array([[1, 2], [3, 4]], np.float).dtype"
   ]
  },
  {
   "cell_type": "markdown",
   "id": "established-worker",
   "metadata": {},
   "source": [
    "Arrays (i.e. `np.ndarray` objects) have several properties or\n",
    "*attributes*  and *methods*.\n",
    " An *attribute* of an object\n",
    "is a python object attched to another python object.\n",
    "For instance `x.ndim` is the `ndim` attribute\n",
    "of the object `x` which tells us we have\n",
    "created a two dimensional array. A *method* of an object such as\n",
    "`x` above is a function that takes `x` as its first\n",
    "argument and is called as `x.methodname()`. For instance, the\n",
    "`reshape` method returns a new array with the same data as\n",
    "`x` but different shape. Users should be careful to note that\n",
    "the data in `x` is not copied in this operation, so modifying\n",
    "the reshaped array `x_reshape` will modify `x` as\n",
    "well. When in doubt, one can use the `copy()` method.\n",
    "\n"
   ]
  },
  {
   "cell_type": "code",
   "execution_count": null,
   "id": "statewide-sensitivity",
   "metadata": {},
   "outputs": [],
   "source": [
    "%%R\n",
    "x = np.array([1, 2, 3, 4])\n",
    "print('beginning x', x)\n",
    "x_reshape = x.reshape((2, 2))\n",
    "print('reshaped x', x_reshape)\n",
    "x_reshape[0, 0] = 5\n",
    "print('reshaped and modified x', x_reshape)\n",
    "print('after x', x)"
   ]
  },
  {
   "cell_type": "markdown",
   "id": "significant-glass",
   "metadata": {},
   "source": [
    "Several things can be seen in this example. Displaying\n",
    "`x_reshape` we see that `numpy` arrays are specified as a list\n",
    "of *rows*. This is sometimes called *row-major ordering* rather than *column-major\n",
    "ordering*.\n",
    "\n",
    "We also see that `python` (and hence `numpy`) uses 0-based\n",
    "indexing. That is, the entry `x[2]` would be `3`, the\n",
    "third entry of `x`. Finally, we introduced a `tuple`\n",
    "`(2, 2)` in our call to `reshape()`.  Like lists, tuples\n",
    "are built in `python` objects that represent a sequence of\n",
    "objects. The reader may wonder why `python` has more than one way to\n",
    "create a sequence? One of the key differences between lists and tuples\n",
    "is *mutability*: entries of a tuple cannot be modified, while entries\n",
    "of a list can be modified.\n",
    "\n"
   ]
  },
  {
   "cell_type": "code",
   "execution_count": null,
   "id": "accepted-cricket",
   "metadata": {
    "lines_to_next_cell": 0
   },
   "outputs": [],
   "source": [
    "%%R\n",
    "my_list = [3, 4, 5]\n",
    "my_list[0] = 2\n",
    "my_list"
   ]
  },
  {
   "cell_type": "markdown",
   "id": "voluntary-computer",
   "metadata": {},
   "source": [
    "\n"
   ]
  },
  {
   "cell_type": "code",
   "execution_count": null,
   "id": "behavioral-outline",
   "metadata": {},
   "outputs": [],
   "source": [
    "%%R\n",
    "my_tuple = (3, 4, 5)\n",
    "my_tuple[0] = 2"
   ]
  },
  {
   "cell_type": "markdown",
   "id": "liquid-immigration",
   "metadata": {},
   "source": [
    "The `shape` of an array is an attribute that is always a tuple.\n",
    "Other useful attributes are `dim, T`, the transpose of the array:\n",
    "\n"
   ]
  },
  {
   "cell_type": "code",
   "execution_count": null,
   "id": "suspected-enough",
   "metadata": {},
   "outputs": [],
   "source": [
    "%%R\n",
    "(x_reshape.shape, x_reshape.ndim, x_reshape.T) #CHOPLINE"
   ]
  },
  {
   "cell_type": "markdown",
   "id": "skilled-effect",
   "metadata": {},
   "source": [
    "We will often want to apply functions to arrays. Often these functions are to be applied elementwise:\n",
    "\n"
   ]
  },
  {
   "cell_type": "code",
   "execution_count": null,
   "id": "recovered-constitution",
   "metadata": {
    "lines_to_next_cell": 0
   },
   "outputs": [],
   "source": [
    "%%R\n",
    "np.sqrt(x)"
   ]
  },
  {
   "cell_type": "markdown",
   "id": "expressed-pride",
   "metadata": {},
   "source": [
    "\n"
   ]
  },
  {
   "cell_type": "code",
   "execution_count": null,
   "id": "entertaining-mayor",
   "metadata": {
    "lines_to_next_cell": 0
   },
   "outputs": [],
   "source": [
    "%%R\n",
    "   x**2"
   ]
  },
  {
   "cell_type": "markdown",
   "id": "horizontal-paradise",
   "metadata": {},
   "source": [
    "\n"
   ]
  },
  {
   "cell_type": "code",
   "execution_count": null,
   "id": "adaptive-republic",
   "metadata": {},
   "outputs": [],
   "source": [
    "%%R\n",
    "   x**0.5"
   ]
  },
  {
   "cell_type": "markdown",
   "id": "sound-drill",
   "metadata": {},
   "source": [
    "In our simulations later, we will often want to generate random data\n",
    "to evaluate how a learning method performs.\n",
    "The `np.random.normal()` function generates a vector of random\n",
    "normal variables. Looking at `np.random.normal?` we see that\n",
    "it takes arguments `loc, sd, size`. The signature (i.e. argument list)\n",
    "of this function reads `(loc=0, sd=1, size=None)`. The\n",
    "arguments here are known as *keyword* arguments with default\n",
    "values provided. Note that each\n",
    "time we call this function, we will get a different answer. Here we\n",
    "create two correlated sets of numbers, `x` and `y`, and use\n",
    "the `np.corrcoef` function to compute their correlation matrix with the [0,1]\n",
    "entry being the correlation.\n",
    "\n"
   ]
  },
  {
   "cell_type": "code",
   "execution_count": null,
   "id": "expected-confidentiality",
   "metadata": {},
   "outputs": [],
   "source": [
    "%%R\n",
    "x = np.random.normal(size=50)\n",
    "y = x + np.random.normal(loc=50, scale=1, size=50)\n",
    "np.corrcoef(x, y)"
   ]
  },
  {
   "cell_type": "markdown",
   "id": "turned-statistics",
   "metadata": {},
   "source": [
    "By default, `np.random.normal` creates standard normal\n",
    "random variables with a mean of 0 and a standard deviation of 1.\n",
    "However, the mean and standard deviation can be altered\n",
    "using the `loc` and `scale` arguments, as illustrated\n",
    "above. Sometimes we want our code to reproduce the exact same set of\n",
    "random numbers; we can use the `np.random.seed` function to do\n",
    "this. The `np.random.seed` function takes an (arbitrary)\n",
    "integer argument.\n",
    "\n"
   ]
  },
  {
   "cell_type": "code",
   "execution_count": null,
   "id": "bridal-intellectual",
   "metadata": {
    "lines_to_next_cell": 0
   },
   "outputs": [],
   "source": [
    "%%R\n",
    "np.random.seed(1303)\n",
    "np.random.normal(size=3, scale=5) "
   ]
  },
  {
   "cell_type": "markdown",
   "id": "growing-geology",
   "metadata": {},
   "source": [
    "\n"
   ]
  },
  {
   "cell_type": "code",
   "execution_count": null,
   "id": "southwest-infrastructure",
   "metadata": {
    "lines_to_next_cell": 0
   },
   "outputs": [],
   "source": [
    "%%R\n",
    "np.random.normal(size=3, scale=5) # these will be different "
   ]
  },
  {
   "cell_type": "markdown",
   "id": "tested-titanium",
   "metadata": {},
   "source": [
    "\n"
   ]
  },
  {
   "cell_type": "code",
   "execution_count": null,
   "id": "backed-melissa",
   "metadata": {},
   "outputs": [],
   "source": [
    "%%R\n",
    "np.random.seed(1303)     \n",
    "np.random.normal(size=3, scale=5) # these will match above"
   ]
  },
  {
   "cell_type": "markdown",
   "id": "living-block",
   "metadata": {},
   "source": [
    "We use `np.random.seed()` throughout the labs whenever we\n",
    "perform calculations involving random quantities.  In general this\n",
    "should allow the user to reproduce our results. However, it should be\n",
    "noted that as new versions of `numpy` become available it is possible\n",
    "that some small discrepancies may occur between the output\n",
    "revealed in the book and the output\n",
    "from `numpy`.\n",
    "\n",
    "The `np.mean()` and `np.var()` functions can be used\n",
    "to compute the mean and variance of arrays.  These functions are also\n",
    "available as methods on the arrays.\n",
    "\n"
   ]
  },
  {
   "cell_type": "code",
   "execution_count": null,
   "id": "cleared-progressive",
   "metadata": {
    "lines_to_next_cell": 0
   },
   "outputs": [],
   "source": [
    "%%R\n",
    "np.random.seed(3)\n",
    "y = np.random.standard_normal(10)\n",
    "np.mean(y), y.mean()\n",
    " "
   ]
  },
  {
   "cell_type": "markdown",
   "id": "bottom-shadow",
   "metadata": {},
   "source": [
    "\n"
   ]
  },
  {
   "cell_type": "code",
   "execution_count": null,
   "id": "informative-chinese",
   "metadata": {
    "lines_to_next_cell": 0
   },
   "outputs": [],
   "source": [
    "%%R\n",
    "np.var(y), y.var(), np.mean((y - y.mean())**2)\n",
    " "
   ]
  },
  {
   "cell_type": "markdown",
   "id": "important-wheat",
   "metadata": {},
   "source": [
    "\n"
   ]
  },
  {
   "cell_type": "code",
   "execution_count": null,
   "id": "lesser-seating",
   "metadata": {},
   "outputs": [],
   "source": [
    "%%R\n",
    "np.sqrt(np.var(y)), np.std(y)\n",
    " "
   ]
  },
  {
   "cell_type": "markdown",
   "id": "square-rainbow",
   "metadata": {},
   "source": [
    "These functions can also be\n",
    "computed along axes of an array if desired.\n",
    "Let’s compute the mean of an matrix across\n",
    "rows. As the array is row-major ordered, this\n",
    "is the first axis, i.e. `axis=0`.\n",
    "\n"
   ]
  },
  {
   "cell_type": "code",
   "execution_count": null,
   "id": "dying-fleece",
   "metadata": {},
   "outputs": [],
   "source": [
    "%%R\n",
    "X = np.random.standard_normal((10, 3))\n",
    "X.mean(axis=0)\n",
    "   "
   ]
  },
  {
   "cell_type": "markdown",
   "id": "spoken-winner",
   "metadata": {},
   "source": [
    "It is not necessary to specify the argument `axis` as a\n",
    "`keyword` argument. We get the same result with the following code.\n",
    "\n"
   ]
  },
  {
   "cell_type": "code",
   "execution_count": null,
   "id": "appointed-observation",
   "metadata": {},
   "outputs": [],
   "source": [
    "%%R\n",
    "X.mean(0)"
   ]
  },
  {
   "cell_type": "markdown",
   "id": "aggregate-behalf",
   "metadata": {},
   "source": [
    "Note that `numpy` uses $1/n$ as a denominator in computing standard deviation\n",
    "rather than the commonly used unbiased estimate $1/(n-1)$. This can\n",
    "be changed by using the argument `ddof` which is subtracted from\n",
    "the length of array before dividing.\n",
    "\n"
   ]
  },
  {
   "cell_type": "code",
   "execution_count": null,
   "id": "threaded-desire",
   "metadata": {},
   "outputs": [],
   "source": [
    "%%R\n",
    "np.var(y, ddof=1) == np.sum((y - y.mean())**2) / (y.shape[0]-1)"
   ]
  },
  {
   "cell_type": "markdown",
   "id": "classical-congress",
   "metadata": {},
   "source": [
    "### Graphics\n",
    "\n",
    "Producing graphics is an important part of data analysis.\n",
    "In `python` this is most commonly done through the library `matplotlib`.\n",
    "As noted above, `python` was not written with data analysis in mind,\n",
    "so the notion of plotting is not intrinsic to the language. This has the\n",
    "effect that typical python objects do not necessarily have a natural way to be plotted.\n",
    "\n",
    "#### Some preliminary details\n",
    "\n",
    "We will want to be able to see plots in the notebook. We\n",
    "will therefore include the following cell which tells\n",
    "`jupyter` to include plots in the web frontend.\n",
    "\n",
    "The line `%matplotlib` is known as a *magic* in |ipython| – it sets the behavior\n",
    "of plotting windows so that interaction with the console is smoother.\n",
    "\n",
    "The subpackage `pyplot` usually imported under the name `plt` in\n",
    "provides a simple interface into the more abstract and powerful library\n",
    "`matplotlib`. For common data analysis tasks, the [seaborn](https://seaborn.pydata.org) library provides\n",
    "a nice high level interface to `matplotlib`. In this introductory\n",
    "chapter, we stick to `plt`. For many more examples,\n",
    "students are encouraged to visit [matplotlib.org/stable/gallery](https://matplotlib.org/stable/gallery/index.html).\n",
    "\n",
    "Let’s start with the\n",
    "basic  `plt.plot()` function.\n",
    "To find out more information\n",
    "type `plt.plot?`.\n",
    "Having loaded the library, let’s plot some data.\n",
    "\n"
   ]
  },
  {
   "cell_type": "code",
   "execution_count": null,
   "id": "flush-faculty",
   "metadata": {},
   "outputs": [],
   "source": [
    "%%R\n",
    "import matplotlib.pyplot as plt # common name for pyplot\n",
    "x = np.random.standard_normal(100)\n",
    "y = np.random.standard_normal(100)\n",
    "plt.plot(x, y);"
   ]
  },
  {
   "cell_type": "markdown",
   "id": "loving-aging",
   "metadata": {},
   "source": [
    "We see that by default, the function `plt.plot()` produces\n",
    "line plots where a scatter plot would seem more natural here.\n",
    "A scatter plot can be produced with `plt.scatter()` or by\n",
    "specifying an additional argument to `plt.plot()`.\n",
    "We will also want to add\n",
    "labels and titles to our plot. This can be done by capturing the current plotting `axis`\n",
    "with `plt.gca()` and setting the appropriate attributes. The current plotting figure\n",
    "can be found with `plt.gcf()`. Note that we are modifying the labels of the plot below *after* having\n",
    "constructed the initial plot.\n",
    "\n"
   ]
  },
  {
   "cell_type": "code",
   "execution_count": null,
   "id": "advised-english",
   "metadata": {},
   "outputs": [],
   "source": [
    "%%R\n",
    "plt.plot(x, y, 'o')\n",
    "ax = plt.gca()\n",
    "ax.set_xlabel(\"this is the x-axis\") \n",
    "ax.set_ylabel(\"this is the y-axis\") \n",
    "ax.set_title(\"Plot of X vs Y\");  "
   ]
  },
  {
   "cell_type": "markdown",
   "id": "hollywood-builder",
   "metadata": {},
   "source": [
    "Let’s compare this to a call to `plt.scatter()`.\n",
    "\n"
   ]
  },
  {
   "cell_type": "code",
   "execution_count": null,
   "id": "considered-medication",
   "metadata": {},
   "outputs": [],
   "source": [
    "%%R\n",
    "plt.scatter(x, y, marker='o')\n",
    "ax = plt.gca()\n",
    "ax.set_xlabel(\"this is the x-axis\") \n",
    "ax.set_ylabel(\"this is the y-axis\") \n",
    "ax.set_title(\"Plot of X vs Y\");  "
   ]
  },
  {
   "cell_type": "markdown",
   "id": "political-elder",
   "metadata": {},
   "source": [
    "We will often want to display more than one plot in a given figure. This\n",
    "can be achieved using a sequences of *axes*. Let’s replot the\n",
    "previous two figures side-by-side in a single figure.\n",
    "\n"
   ]
  },
  {
   "cell_type": "code",
   "execution_count": null,
   "id": "operating-madison",
   "metadata": {},
   "outputs": [],
   "source": [
    "%%R\n",
    "fig, axes = plt.subplots(1, 2, figsize=(10, 6))\n",
    "axes[0].plot(x, y, 'o')\n",
    "axes[1].scatter(x, y, marker='+');"
   ]
  },
  {
   "cell_type": "markdown",
   "id": "sixth-tonight",
   "metadata": {},
   "source": [
    "We will often want to save the output of a plot perhaps as a PNG or\n",
    "PDF file. This can be done by saving the current figure.\n",
    "\n"
   ]
  },
  {
   "cell_type": "code",
   "execution_count": null,
   "id": "still-hearing",
   "metadata": {},
   "outputs": [],
   "source": [
    "%%R\n",
    "fig.savefig(\"Figure.png\", dpi=400)\n",
    "fig.savefig(\"Figure.pdf\", dpi=200);"
   ]
  },
  {
   "cell_type": "markdown",
   "id": "fuzzy-modem",
   "metadata": {},
   "source": [
    "Note that\n",
    "`fig` was defined in the cell above it was saved. We can add to the\n",
    "figure, or modify its axes and redisplay it.\n",
    "\n"
   ]
  },
  {
   "cell_type": "code",
   "execution_count": null,
   "id": "third-allowance",
   "metadata": {},
   "outputs": [],
   "source": [
    "%%R\n",
    "axes[0].set_xlim([-1,1])\n",
    "fig;"
   ]
  },
  {
   "cell_type": "markdown",
   "id": "disabled-identification",
   "metadata": {},
   "source": [
    "The function `np.linspace()` can be used to create a sequence\n",
    "of numbers. For instance, `np.linspace(a, b, n)` makes a vector\n",
    "of numbers starting at  `a` and  ending at `b` of length\n",
    "`n`.  Another useful function is `np.arange` which is a\n",
    "`numpy` version of the builtin function `range()`.\n",
    "The reader may wonder why the terminal value `b` is not included in\n",
    "`seq2` below: this is consistent with `python` slice notation\n",
    "for sequences as seen in the slicing of the string in the snippet\n",
    "below by the slice `2:5` which returns the third (`[2]`)\n",
    "through fifth (`[4]`) character of “hello world” and does not\n",
    "include the sixth character (`[5]`).\n",
    "\n"
   ]
  },
  {
   "cell_type": "code",
   "execution_count": null,
   "id": "nominated-dispute",
   "metadata": {
    "lines_to_next_cell": 0
   },
   "outputs": [],
   "source": [
    "%%R\n",
    "seq1 = np.linspace(0, 10, 11)\n",
    "seq1\n",
    " "
   ]
  },
  {
   "cell_type": "markdown",
   "id": "lucky-newark",
   "metadata": {},
   "source": [
    "\n"
   ]
  },
  {
   "cell_type": "code",
   "execution_count": null,
   "id": "indie-childhood",
   "metadata": {
    "lines_to_next_cell": 0
   },
   "outputs": [],
   "source": [
    "%%R\n",
    "seq2 = np.arange(0, 10)\n",
    "seq2"
   ]
  },
  {
   "cell_type": "markdown",
   "id": "treated-anxiety",
   "metadata": {},
   "source": [
    "\n"
   ]
  },
  {
   "cell_type": "code",
   "execution_count": null,
   "id": "mental-architecture",
   "metadata": {},
   "outputs": [],
   "source": [
    "%%R\n",
    "\"hello world\"[2:5]"
   ]
  },
  {
   "cell_type": "markdown",
   "id": "positive-consultancy",
   "metadata": {},
   "source": [
    "We will now create some more sophisticated plots. The\n",
    "`plt.contour()` function produces a contour_plot\n",
    "in order to represent three-dimensional data; it is like a\n",
    "topographical map.  It takes three arguments:\n"
   ]
  },
  {
   "cell_type": "markdown",
   "id": "absolute-hometown",
   "metadata": {},
   "source": [
    "* A vector of the `x` values (the first dimension),\n"
   ]
  },
  {
   "cell_type": "markdown",
   "id": "overall-subscriber",
   "metadata": {},
   "source": [
    "* A vector of the `y` values (the second dimension), and\n"
   ]
  },
  {
   "cell_type": "markdown",
   "id": "french-exposure",
   "metadata": {},
   "source": [
    "* A matrix whose elements correspond to the `z` value (the third\n",
    "dimension) for each pair of `(x,y)` coordinates.\n"
   ]
  },
  {
   "cell_type": "markdown",
   "id": "expected-administration",
   "metadata": {},
   "source": [
    "As with the `plt.scatter()` function, there are many other\n",
    "inputs that can be used to fine-tune the output of the\n",
    "`plt.contour()` function. To learn more about these, take a\n",
    "look at the help file by typing `?plt.contour`.\n",
    "\n"
   ]
  },
  {
   "cell_type": "code",
   "execution_count": null,
   "id": "fuzzy-prayer",
   "metadata": {
    "lines_to_next_cell": 0
   },
   "outputs": [],
   "source": [
    "%%R\n",
    "x = np.linspace(-np.pi, np.pi, 50)\n",
    "y = x\n",
    "f = np.multiply.outer(np.cos(y), 1 / (1 + x**2))\n",
    "plt.contour(x, y, f);"
   ]
  },
  {
   "cell_type": "markdown",
   "id": "instant-scenario",
   "metadata": {},
   "source": [
    "\n"
   ]
  },
  {
   "cell_type": "code",
   "execution_count": null,
   "id": "remarkable-hello",
   "metadata": {
    "lines_to_next_cell": 0
   },
   "outputs": [],
   "source": [
    "%%R\n",
    "plt.contour(x, y, f, levels=45);"
   ]
  },
  {
   "cell_type": "markdown",
   "id": "likely-lightning",
   "metadata": {},
   "source": [
    "\n"
   ]
  },
  {
   "cell_type": "code",
   "execution_count": null,
   "id": "dietary-influence",
   "metadata": {},
   "outputs": [],
   "source": [
    "%%R\n",
    "fa = (f - f.T) / 2\n",
    "plt.contour(x, y, fa, levels=15);"
   ]
  },
  {
   "cell_type": "markdown",
   "id": "infinite-recovery",
   "metadata": {},
   "source": [
    "The `plt.imshow()` function works the same way as\n",
    "`plt.contour()`, except that it produces a color-coded plot\n",
    "whose colors depend on the `z` value. This is known as a\n",
    "heatmap, and is sometimes used to plot temperature in\n",
    "weather forecasts.\n",
    "\n"
   ]
  },
  {
   "cell_type": "code",
   "execution_count": null,
   "id": "talented-default",
   "metadata": {},
   "outputs": [],
   "source": [
    "%%R\n",
    "plt.imshow(fa);"
   ]
  },
  {
   "cell_type": "markdown",
   "id": "satisfied-basin",
   "metadata": {},
   "source": [
    "### Indexing Data\n",
    "\n",
    "We often wish to examine part of a set of data. Suppose that our data\n",
    "is stored in the matrix `A` (recall that we defined a matrix\n",
    "as a 2-dimensional `numpy` array for the purpose of these labs).\n",
    "\n"
   ]
  },
  {
   "cell_type": "code",
   "execution_count": null,
   "id": "postal-breathing",
   "metadata": {},
   "outputs": [],
   "source": [
    "%%R\n",
    "A = np.array(np.arange(16)).reshape((4, 4))\n",
    "A #CHOPLINE"
   ]
  },
  {
   "cell_type": "markdown",
   "id": "wrong-going",
   "metadata": {},
   "source": [
    "Then, typing `A[1,2]` will select the element corresponding to the second row and the third\n",
    "column.\n",
    "\n"
   ]
  },
  {
   "cell_type": "code",
   "execution_count": null,
   "id": "buried-lending",
   "metadata": {},
   "outputs": [],
   "source": [
    "%%R\n",
    "A[1, 2]"
   ]
  },
  {
   "cell_type": "markdown",
   "id": "fuzzy-faith",
   "metadata": {},
   "source": [
    "The first number after the open-bracket symbol `[`\n",
    "always refers to the row (starting with 0 as the first row), and the\n",
    "second number always refers to the column (again starting with 0). We\n",
    "can also select multiple rows and columns at a time, by providing\n",
    "vectors as the indices, though `numpy`’s indexing notation can get a\n",
    "little complex. Let’s look at a few indexing operations. We may\n",
    "want to select only a few rows, perhaps the 2nd and 4th rows:\n",
    "\n"
   ]
  },
  {
   "cell_type": "code",
   "execution_count": null,
   "id": "remarkable-hierarchy",
   "metadata": {},
   "outputs": [],
   "source": [
    "%%R\n",
    "A[[1,3]]  #CHOPLINE"
   ]
  },
  {
   "cell_type": "markdown",
   "id": "certain-handy",
   "metadata": {},
   "source": [
    "Suppose now we want to select the 1st and 3rd columns. This\n",
    "is selecting on the 2nd axis of the array. To indicate\n",
    "this, we pass `[0,2]` as the second argument in the square brackets.\n",
    "The first argument `:` indicates we will\n",
    "select all rows.\n",
    "\n"
   ]
  },
  {
   "cell_type": "code",
   "execution_count": null,
   "id": "collaborative-example",
   "metadata": {},
   "outputs": [],
   "source": [
    "%%R\n",
    "A[:,[0,2]]  #CHOPLINE"
   ]
  },
  {
   "cell_type": "markdown",
   "id": "automotive-right",
   "metadata": {},
   "source": [
    "Suppose we want to select the submatrix made up of the 2nd and 4th\n",
    "rows as well as the 1st and 3rd columns. This is where\n",
    "indexing gets slightly tricky. The following may seem a natural guess\n",
    "at how to accomplish this\n",
    "\n"
   ]
  },
  {
   "cell_type": "code",
   "execution_count": null,
   "id": "peripheral-gather",
   "metadata": {},
   "outputs": [],
   "source": [
    "%%R\n",
    "A[[1,3],[0,2]]"
   ]
  },
  {
   "cell_type": "markdown",
   "id": "early-merchant",
   "metadata": {},
   "source": [
    "We see this has given us a one-dimensional array of length 2 identical to\n",
    "\n"
   ]
  },
  {
   "cell_type": "code",
   "execution_count": null,
   "id": "single-introduction",
   "metadata": {},
   "outputs": [],
   "source": [
    "%%R\n",
    "np.array([A[1,0],A[3,2]])"
   ]
  },
  {
   "cell_type": "markdown",
   "id": "apart-field",
   "metadata": {},
   "source": [
    "It will now not be surprising that the following code will not\n",
    "extract the 2nd and 4th rows as well as the 1st, 3rd and 4th columns:\n",
    "\n"
   ]
  },
  {
   "cell_type": "code",
   "execution_count": null,
   "id": "hearing-ozone",
   "metadata": {},
   "outputs": [],
   "source": [
    "%%R\n",
    "A[[1,3],[0,2,3]]\n",
    "\t      "
   ]
  },
  {
   "cell_type": "markdown",
   "id": "certified-comment",
   "metadata": {},
   "source": [
    "One can also `slice` arrays. To retrieve the 2nd and 3rd rows of\n",
    "`A` we can use the following:\n",
    "\n"
   ]
  },
  {
   "cell_type": "code",
   "execution_count": null,
   "id": "rocky-threshold",
   "metadata": {},
   "outputs": [],
   "source": [
    "%%R\n",
    "A[1:3] #CHOPLINE"
   ]
  },
  {
   "cell_type": "markdown",
   "id": "sonic-morocco",
   "metadata": {},
   "source": [
    "If we pass two slices to the square brackets then we see that `numpy`\n",
    "does retrieve submatrices.\n",
    "\n"
   ]
  },
  {
   "cell_type": "code",
   "execution_count": null,
   "id": "corresponding-antigua",
   "metadata": {},
   "outputs": [],
   "source": [
    "%%R\n",
    "A[1:3,0:2] #CHOPLINE"
   ]
  },
  {
   "cell_type": "markdown",
   "id": "cognitive-ozone",
   "metadata": {},
   "source": [
    "Why the difference? The notation `1:3` is equivalent to `slice(1,3,1)`\n",
    "which is an object that represents the indices greater than or equal to 1, but less than 3,\n",
    "spaced apart by steps of size 1 (the object `slice(4,20,5)`\n",
    "would be equal to $\\{j: j=4+5i, i=0,1,2, j<20\\}$). Informally this slice\n",
    "`1:3` is the same\n",
    "as just the list `[1,2]` but they are different python types and\n",
    "are treated differently by `numpy`.\n",
    "Slices can be used to extract objects from arbitrary sequences (strings, lists, tuples).\n",
    "\n",
    "To extract submatrices of a given set of rows and a given set of columns one can\n",
    "first create a smaller matrix by subsetting the rows, and then subsetting the columns.\n",
    "\n"
   ]
  },
  {
   "cell_type": "code",
   "execution_count": null,
   "id": "legal-madrid",
   "metadata": {
    "lines_to_next_cell": 0
   },
   "outputs": [],
   "source": [
    "%%R\n",
    "tmp = A[[1,3]]\n",
    "method1 = tmp[:,[0,2]]\n",
    "method1 #CHOPLINE"
   ]
  },
  {
   "cell_type": "markdown",
   "id": "democratic-munich",
   "metadata": {},
   "source": [
    "\n"
   ]
  },
  {
   "cell_type": "code",
   "execution_count": null,
   "id": "encouraging-audience",
   "metadata": {},
   "outputs": [],
   "source": [
    "%%R\n",
    "method2 = A[[1,3]][:,[0,2]]\n",
    "method1 - method2 #CHOPLINE"
   ]
  },
  {
   "cell_type": "markdown",
   "id": "meaningful-majority",
   "metadata": {},
   "source": [
    "For large matrices, this method unnecessarily creates a temporary\n",
    "matrix `tmp` (even for the `method2` example). This can be\n",
    "avoided by using a convenience function `np.ix_` to help\n",
    "specify the indices.\n",
    "\n"
   ]
  },
  {
   "cell_type": "code",
   "execution_count": null,
   "id": "cognitive-packet",
   "metadata": {},
   "outputs": [],
   "source": [
    "%%R\n",
    "idx = np.ix_([1,3],[0,2])\n",
    "A[idx] #CHOPLINE"
   ]
  },
  {
   "cell_type": "markdown",
   "id": "express-debate",
   "metadata": {},
   "source": [
    "We can also select or drop rows with arrays filled with\n",
    "booleans `True` or `False`.\n",
    "\n"
   ]
  },
  {
   "cell_type": "code",
   "execution_count": null,
   "id": "respiratory-designation",
   "metadata": {},
   "outputs": [],
   "source": [
    "%%R\n",
    "keep_rows = np.zeros(A.shape[0], np.bool)\n",
    "keep_rows[[1,3]] = 1\n",
    "keep_cols = np.zeros(A.shape[1], np.bool)\n",
    "keep_cols[[0, 2]] = 1\n",
    "idx_bool = np.ix_(keep_rows, keep_cols)\n",
    "A[idx_bool] #CHOPLINE"
   ]
  },
  {
   "cell_type": "markdown",
   "id": "southeast-geneva",
   "metadata": {},
   "source": [
    "For more details on indexing in `numpy`, students are referred\n",
    "to the numpy tutorial above.\n",
    "\n",
    "### Loading Data\n",
    "\n",
    "For most analyses, the first step involves importing a data set into\n",
    "`python`.  Readers will have noticed that the matrices above\n",
    "(2-dimensional arrays) did not carry any names related to either rows\n",
    "or columns, and all data within the array was of the same type.\n",
    "Often, data sets have different types of data. This requires a\n",
    "different object to store this type of data, typically called a\n",
    "data frame. In `python`, the `pandas`\n",
    "library provides a data frame object.\n",
    "\n",
    "Data frames can be read in from\n",
    "a file using functions provided by `pandas`. Before attempting to load\n",
    "a data set, we must make sure that `python` knows to search for the\n",
    "data in the proper directory or give a full path name for the\n",
    "file. The working directory can be set with the command\n",
    "`os.chdir`. Make sure that the\n",
    "files `Auto.csv` and `Auto.data` (available\n",
    "on the book’s website) are in the same location\n",
    "as this notebook file.\n",
    "Alternatively, we can give a full or absolute path\n",
    "to the file.\n",
    "\n",
    "For instance a\n",
    "comma-separated file CSV can be read as follows:\n",
    "\n"
   ]
  },
  {
   "cell_type": "code",
   "execution_count": null,
   "id": "known-pitch",
   "metadata": {},
   "outputs": [],
   "source": [
    "%%R\n",
    "import pandas as pd\n",
    "Auto = pd.read_csv('Auto.csv')"
   ]
  },
  {
   "cell_type": "markdown",
   "id": "minor-escape",
   "metadata": {},
   "source": [
    "A data frame\n",
    "is perhaps most easily understood as a sequence\n",
    "of arrays of identical length which we typically\n",
    "think of as *columns*. Entries in the\n",
    "different arrays can be combined to form a *row* corresponding\n",
    "to a subject’s data. The columns are named (as are the rows) and can be accessed\n",
    "using the column names\n",
    "\n"
   ]
  },
  {
   "cell_type": "code",
   "execution_count": null,
   "id": "educational-matter",
   "metadata": {},
   "outputs": [],
   "source": [
    "%%R\n",
    "Auto['horsepower'] #SUPPRESSOUTPUT"
   ]
  },
  {
   "cell_type": "markdown",
   "id": "complex-palace",
   "metadata": {},
   "source": [
    "We have another version of this data called `Auto.data` that is whitespace\n",
    "delimited. This can be read in as follows:\n",
    "\n"
   ]
  },
  {
   "cell_type": "code",
   "execution_count": null,
   "id": "smart-constant",
   "metadata": {},
   "outputs": [],
   "source": [
    "%%R\n",
    "Auto = pd.read_csv('Auto.data', delim_whitespace=True)"
   ]
  },
  {
   "cell_type": "markdown",
   "id": "fossil-substance",
   "metadata": {},
   "source": [
    "Note that `Auto.csv` and `Auto.data` are simply text\n",
    "files, which you could alternatively open on your computer using a\n",
    "standard text editor. It is often a good idea to view a data set using\n",
    "a text editor or other software such as Excel before loading it into\n",
    "`python`.\n",
    "\n",
    "This particular data  set has not been loaded correctly, as missing values have been encoded as\n",
    "`?` in the text file. We can see this by inspecting some of the variables:\n",
    "\n"
   ]
  },
  {
   "cell_type": "code",
   "execution_count": null,
   "id": "exciting-holiday",
   "metadata": {},
   "outputs": [],
   "source": [
    "%%R\n",
    "np.unique(Auto['horsepower']) #SUPPRESSOUTPUT"
   ]
  },
  {
   "cell_type": "markdown",
   "id": "amber-survival",
   "metadata": {},
   "source": [
    "This can be fixed by giving `pd.read_csv()` an argument called `na_values`:\n",
    "\n"
   ]
  },
  {
   "cell_type": "code",
   "execution_count": null,
   "id": "signed-dragon",
   "metadata": {},
   "outputs": [],
   "source": [
    "%%R\n",
    "Auto = pd.read_csv('Auto.data',\n",
    "                   na_values=['?'],\n",
    "                   delim_whitespace=True)\n",
    "np.unique(Auto['horsepower'][:4]) "
   ]
  },
  {
   "cell_type": "markdown",
   "id": "adolescent-congress",
   "metadata": {},
   "source": [
    "The `Auto.shape` attribute tells us that the data has 397\n",
    "observations, or rows, and nine variables, or columns.  There are\n",
    "various ways to deal with the missing data. \n",
    "In this case, only five of the rows contain missing\n",
    "observations, and so we choose to use the `na.omit()`\n",
    "function to simply remove these rows.\n",
    "\n"
   ]
  },
  {
   "cell_type": "code",
   "execution_count": null,
   "id": "coordinate-manner",
   "metadata": {},
   "outputs": [],
   "source": [
    "%%R\n",
    "Auto_new = Auto.dropna()\n",
    "Auto.shape, Auto_new.shape"
   ]
  },
  {
   "cell_type": "markdown",
   "id": "mighty-psychology",
   "metadata": {},
   "source": [
    "Once the data are loaded correctly, we can use `Auto.columns` to check the variable names.\n",
    "\n"
   ]
  },
  {
   "cell_type": "code",
   "execution_count": null,
   "id": "compliant-mouse",
   "metadata": {},
   "outputs": [],
   "source": [
    "%%R\n",
    "Auto = Auto_new\t      \n",
    "Auto.columns #CHOPLINE"
   ]
  },
  {
   "cell_type": "markdown",
   "id": "invisible-reproduction",
   "metadata": {},
   "source": [
    "Accessing data from a data frame is similar to a matrix but not identical. Data frames\n",
    "maintain identifiers for rows in their `index` attribute and names for columns\n",
    "in their `columns` attribute. We can therefore access data by *name* from a data frame.\n",
    "The primary index of the data frame is their column (so they are similar to column major\n",
    "matrices but the type of each entry need not be identical as in an array).\n",
    "\n"
   ]
  },
  {
   "cell_type": "code",
   "execution_count": null,
   "id": "legitimate-performer",
   "metadata": {},
   "outputs": [],
   "source": [
    "%%R\n",
    "Auto[['mpg', 'horsepower']][:3]"
   ]
  },
  {
   "cell_type": "markdown",
   "id": "diagnostic-modification",
   "metadata": {},
   "source": [
    "We did not specify an index column when we loaded our data frame. We can do that using the\n",
    "`set_index()` method.\n",
    "\n"
   ]
  },
  {
   "cell_type": "code",
   "execution_count": null,
   "id": "incoming-choir",
   "metadata": {},
   "outputs": [],
   "source": [
    "%%R\n",
    "Auto_re = Auto.set_index('name')\n",
    "Auto_re #SUPPRESSOUTPUT "
   ]
  },
  {
   "cell_type": "markdown",
   "id": "reliable-treatment",
   "metadata": {},
   "source": [
    "We can now access rows of the data frame using the `loc[]` method of\n",
    "`Auto`\n",
    "\n"
   ]
  },
  {
   "cell_type": "code",
   "execution_count": null,
   "id": "structural-ballet",
   "metadata": {},
   "outputs": [],
   "source": [
    "%%R\n",
    "rows = ['amc rebel sst',\n",
    "        'ford torino']\n",
    "Auto_re.loc[rows] #SUPPRESSOUTPUT"
   ]
  },
  {
   "cell_type": "markdown",
   "id": "mounted-peter",
   "metadata": {},
   "source": [
    "It is sometimes still of interest to access rows of the data frame using\n",
    "numeric indices. The rows above are the 4th and 5th row of `Auto`. We\n",
    "can retrieve these using the `iloc[]` method:\n",
    "\n"
   ]
  },
  {
   "cell_type": "code",
   "execution_count": null,
   "id": "indonesian-charlotte",
   "metadata": {},
   "outputs": [],
   "source": [
    "%%R\n",
    "Auto_re.iloc[[3,4]] #SUPPRESSOUTPUT"
   ]
  },
  {
   "cell_type": "markdown",
   "id": "comfortable-balloon",
   "metadata": {},
   "source": [
    "Index entries need not be unique: there are several cars with `name == ford galaxie 500`\n",
    "but different years.\n",
    "\n"
   ]
  },
  {
   "cell_type": "code",
   "execution_count": null,
   "id": "basic-specialist",
   "metadata": {},
   "outputs": [],
   "source": [
    "%%R\n",
    "Auto_re.loc['ford galaxie 500', ['mpg', 'origin']]\t      "
   ]
  },
  {
   "cell_type": "markdown",
   "id": "narrow-focus",
   "metadata": {},
   "source": [
    "To ensure unique indices here we can create a multidimensional index.\n",
    "\n"
   ]
  },
  {
   "cell_type": "code",
   "execution_count": null,
   "id": "incident-description",
   "metadata": {},
   "outputs": [],
   "source": [
    "%%R\n",
    "Auto_m = Auto.set_index(['name', 'year'])\n",
    "Auto_m.loc[('ford galaxie 500', 70), ['mpg', 'horsepower']]"
   ]
  },
  {
   "cell_type": "markdown",
   "id": "opposite-possibility",
   "metadata": {},
   "source": [
    "Rows can also be selected with an anonymous function called a\n",
    "`lambda`:\n",
    "\n"
   ]
  },
  {
   "cell_type": "code",
   "execution_count": null,
   "id": "lucky-tenant",
   "metadata": {},
   "outputs": [],
   "source": [
    "%%R\n",
    "Auto_re.loc[lambda df: df['year'] > 80,\n",
    "            ['weight', 'origin']][:5]"
   ]
  },
  {
   "cell_type": "markdown",
   "id": "injured-works",
   "metadata": {},
   "source": [
    "### Additional Graphical and Numerical Summaries\n",
    "\n",
    "We can use the `plt.scatter()` function to produce *scatterplots* \n",
    "of the quantitative variables. However, simply typing the variable names will produce an error message,\n",
    "because `python` does not know to look in the `Auto` data set for those variables.\n",
    "\n"
   ]
  },
  {
   "cell_type": "code",
   "execution_count": null,
   "id": "forward-reynolds",
   "metadata": {},
   "outputs": [],
   "source": [
    "%%R\n",
    "plt.plot(cylinders, mpg, 'o') #SUPPRESSOUTPUT"
   ]
  },
  {
   "cell_type": "markdown",
   "id": "hourly-conducting",
   "metadata": {},
   "source": [
    "To refer to the variable `cylinders` we can use `Auto.cylinders` or `Auto['cylinders']`.\n",
    "Alternatively, we can plot data from the data frame using the `Auto.plot()` method:\n",
    "\n"
   ]
  },
  {
   "cell_type": "code",
   "execution_count": null,
   "id": "alternative-poverty",
   "metadata": {},
   "outputs": [],
   "source": [
    "%%R\n",
    "plt.scatter(Auto.horsepower, Auto.mpg) #SUPPRESSOUTPUT\n",
    "Auto.plot.scatter('horsepower', 'mpg') #SUPPRESSOUTPUT"
   ]
  },
  {
   "cell_type": "markdown",
   "id": "severe-radar",
   "metadata": {},
   "source": [
    "The `cylinders` variable is stored as a numeric vector, so `pandas` has treated it as quantitative.\n",
    "However, since there are only a small number of possible values for `cylinders`,\n",
    "one may prefer to treat it as a qualitative variable. The `dtype='category'` argument\n",
    "converts quantitative variables into qualitative variables.\n",
    "\n"
   ]
  },
  {
   "cell_type": "code",
   "execution_count": null,
   "id": "rural-gathering",
   "metadata": {},
   "outputs": [],
   "source": [
    "%%R\n",
    "Auto.cylinders = pd.Series(Auto.cylinders,\n",
    "                           dtype='category')"
   ]
  },
  {
   "cell_type": "markdown",
   "id": "drawn-listing",
   "metadata": {},
   "source": [
    "If the variable plotted on the $x$-axis is categorial, then  *boxplots* \n",
    "can be produced using the `boxplot()` method.\n",
    "\n"
   ]
  },
  {
   "cell_type": "code",
   "execution_count": null,
   "id": "portuguese-summer",
   "metadata": {},
   "outputs": [],
   "source": [
    "%%R\n",
    "Auto.boxplot('mpg', by='cylinders');"
   ]
  },
  {
   "cell_type": "markdown",
   "id": "voluntary-embassy",
   "metadata": {},
   "source": [
    "The `Auto.hist()` method can be used to plot a *histogram*.\n",
    "Note that `col=2` has the same effect as `col=\"red\"`.\n",
    "\n"
   ]
  },
  {
   "cell_type": "code",
   "execution_count": null,
   "id": "funky-boost",
   "metadata": {
    "lines_to_next_cell": 0
   },
   "outputs": [],
   "source": [
    "%%R\n",
    "Auto.hist('mpg');"
   ]
  },
  {
   "cell_type": "markdown",
   "id": "every-substitute",
   "metadata": {},
   "source": [
    "\n"
   ]
  },
  {
   "cell_type": "code",
   "execution_count": null,
   "id": "dirty-collection",
   "metadata": {
    "lines_to_next_cell": 0
   },
   "outputs": [],
   "source": [
    "%%R\n",
    "Auto.hist('mpg', color='red');"
   ]
  },
  {
   "cell_type": "markdown",
   "id": "fallen-joint",
   "metadata": {},
   "source": [
    "\n"
   ]
  },
  {
   "cell_type": "code",
   "execution_count": null,
   "id": "synthetic-percentage",
   "metadata": {},
   "outputs": [],
   "source": [
    "%%R\n",
    "Auto.hist('mpg', bins=12); "
   ]
  },
  {
   "cell_type": "markdown",
   "id": "united-interstate",
   "metadata": {},
   "source": [
    "We often want to visualize pairwise relationships between variables in\n",
    "a data frame. The\n",
    "`pd.plotting.scatter_matrix()` function creates a\n",
    "*scatterplot matrix* i.e. a scatterplot for every pair of continuous\n",
    "variables for any given data set.  We can also produce scatterplots\n",
    "for just a subset of the variables.\n",
    "\n"
   ]
  },
  {
   "cell_type": "code",
   "execution_count": null,
   "id": "intelligent-murder",
   "metadata": {
    "lines_to_next_cell": 0
   },
   "outputs": [],
   "source": [
    "%%R\n",
    "pd.plotting.scatter_matrix(Auto);"
   ]
  },
  {
   "cell_type": "markdown",
   "id": "imperial-viewer",
   "metadata": {},
   "source": [
    "\n"
   ]
  },
  {
   "cell_type": "code",
   "execution_count": null,
   "id": "local-facility",
   "metadata": {},
   "outputs": [],
   "source": [
    "%%R\n",
    "pd.plotting.scatter_matrix(Auto[['mpg',\n",
    "                                 'displacement',\n",
    "                                 'weight']]);"
   ]
  },
  {
   "cell_type": "markdown",
   "id": "novel-minneapolis",
   "metadata": {},
   "source": [
    "The `describe()` method produces a numerical summary of each variable in a particular data set.\n",
    "\n"
   ]
  },
  {
   "cell_type": "code",
   "execution_count": null,
   "id": "constant-integral",
   "metadata": {},
   "outputs": [],
   "source": [
    "%%R\n",
    "Auto[['mpg', 'weight']].describe() #CHOPLINE"
   ]
  },
  {
   "cell_type": "markdown",
   "id": "seven-philippines",
   "metadata": {},
   "source": [
    "We can also produce a summary of just a single variable.\n",
    "\n"
   ]
  },
  {
   "cell_type": "code",
   "execution_count": null,
   "id": "charged-theme",
   "metadata": {},
   "outputs": [],
   "source": [
    "%%R\n",
    "Auto['cylinders'].describe()\n",
    "Auto['mpg'].describe() #CHOPLINE"
   ]
  },
  {
   "cell_type": "markdown",
   "id": "defensive-animation",
   "metadata": {},
   "source": [
    "Once we have finished using `Jupyter`, we can select `File->Close and Halt`."
   ]
  }
 ],
 "metadata": {
  "jupytext": {
   "cell_metadata_filter": "all",
   "formats": "ipynb,Rmd",
   "notebook_metadata_filter": "all"
  },
  "kernelspec": {
   "display_name": "Python 3",
   "language": "python",
   "name": "python3"
  },
  "language_info": {
   "codemirror_mode": {
    "name": "ipython",
    "version": 3
   },
   "file_extension": ".py",
   "mimetype": "text/x-python",
   "name": "python",
   "nbconvert_exporter": "python",
   "pygments_lexer": "ipython3",
   "version": "3.6.2"
  }
 },
 "nbformat": 4,
 "nbformat_minor": 5
}
